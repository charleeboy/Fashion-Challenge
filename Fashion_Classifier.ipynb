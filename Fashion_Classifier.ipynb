{
  "nbformat": 4,
  "nbformat_minor": 0,
  "metadata": {
    "colab": {
      "name": "Fashion_Classifier_WebApp.ipynb",
      "provenance": [],
      "authorship_tag": "ABX9TyNwmdrXF3nbnK1ITn+Fv38Q",
      "include_colab_link": true
    },
    "kernelspec": {
      "name": "python3",
      "display_name": "Python 3"
    }
  },
  "cells": [
    {
      "cell_type": "markdown",
      "metadata": {
        "id": "view-in-github",
        "colab_type": "text"
      },
      "source": [
        "<a href=\"https://colab.research.google.com/github/iaanimashaun/Fashion-Challenge/blob/main/Fashion_Classifier.ipynb\" target=\"_parent\"><img src=\"https://colab.research.google.com/assets/colab-badge.svg\" alt=\"Open In Colab\"/></a>"
      ]
    },
    {
      "cell_type": "code",
      "metadata": {
        "id": "wegL1S9bgO6F"
      },
      "source": [
        ""
      ],
      "execution_count": null,
      "outputs": []
    },
    {
      "cell_type": "code",
      "metadata": {
        "id": "NKlowguCfcv-"
      },
      "source": [
        "import tensorflow as tf\r\n",
        "from os import path, getcwd, chdir\r\n",
        "\r\n",
        "# DO NOT CHANGE THE LINE BELOW. If you are developing in a local\r\n",
        "# environment, then grab mnist.npz from the Coursera Jupyter Notebook\r\n",
        "# and place it inside a local folder and edit the path to that location\r\n",
        "#path = f\"{getcwd()}/../tmp2/mnist.npz\""
      ],
      "execution_count": 9,
      "outputs": []
    },
    {
      "cell_type": "code",
      "metadata": {
        "colab": {
          "base_uri": "https://localhost:8080/"
        },
        "id": "6wkhByQGkGL2",
        "outputId": "b04e8492-48df-442a-d908-6d8b4ccd46b5"
      },
      "source": [
        "mnist = tf.keras.datasets.mnist\r\n",
        "(training_images, training_labels), (test_images, test_labels) = mnist.load_data()"
      ],
      "execution_count": 20,
      "outputs": [
        {
          "output_type": "stream",
          "text": [
            "Downloading data from https://storage.googleapis.com/tensorflow/tf-keras-datasets/mnist.npz\n",
            "11493376/11490434 [==============================] - 0s 0us/step\n"
          ],
          "name": "stdout"
        }
      ]
    },
    {
      "cell_type": "code",
      "metadata": {
        "id": "A5s1Eak1kGFh"
      },
      "source": [
        ""
      ],
      "execution_count": null,
      "outputs": []
    },
    {
      "cell_type": "code",
      "metadata": {
        "id": "YJdiOefckGAX"
      },
      "source": [
        ""
      ],
      "execution_count": null,
      "outputs": []
    },
    {
      "cell_type": "code",
      "metadata": {
        "id": "VWG5g3lYfcqU"
      },
      "source": [
        "class MyCallback(tf.keras.callbacks.Callback):\r\n",
        "    def on_epoch_end(self, epoch, logs={}):\r\n",
        "        if logs.get('accuracy') >= 0.998:\r\n",
        "            print('\\nStopping training. Accuracy is greater than 99.8%')\r\n",
        "            self.model.stop_training = True"
      ],
      "execution_count": 28,
      "outputs": []
    },
    {
      "cell_type": "code",
      "metadata": {
        "id": "_wndvp_hfcnl"
      },
      "source": [
        "\r\n",
        "mnist = tf.keras.datasets.mnist\r\n",
        "(training_images, training_labels), (test_images, test_labels) = mnist.load_data()\r\n",
        "def train_mnist_conv():\r\n",
        "    \r\n",
        "    callback = MyCallback()\r\n",
        "    \r\n",
        "\r\n",
        "    mnist = tf.keras.datasets.mnist\r\n",
        "    (training_images, training_labels), (test_images, test_labels) = mnist.load_data()\r\n",
        "   \r\n",
        "    train_size = training_images.shape\r\n",
        "    test_size = test_images.shape\r\n",
        "    training_images = training_images.reshape(train_size[0],train_size[1],train_size[2],1)/255\r\n",
        "    test_images = test_images.reshape(test_size[0],test_size[1],test_size[2],1)/255\r\n",
        "    \r\n",
        "    \r\n",
        "\r\n",
        "    model = tf.keras.models.Sequential([\r\n",
        "            \r\n",
        "            tf.keras.layers.Conv2D(32, (3,3), activation='relu', input_shape=(train_size[1],train_size[2],1)),\r\n",
        "            tf.keras.layers.MaxPooling2D(2,2),\r\n",
        "            tf.keras.layers.Flatten(),\r\n",
        "            tf.keras.layers.Dense(128, activation='relu'),\r\n",
        "            tf.keras.layers.Dense(10, activation='softmax')\r\n",
        "\r\n",
        "           \r\n",
        "    ])\r\n",
        "\r\n",
        "    model.compile(optimizer='adam', loss='sparse_categorical_crossentropy', metrics=['accuracy'])\r\n",
        "   \r\n",
        "    history = model.fit(\r\n",
        "        #\r\n",
        "        training_images, training_labels, epochs=2, callbacks=[callback]\r\n",
        "        E\r\n",
        "    )\r\n",
        "   \r\n",
        "    return history.epoch, history.history['accuracy'][-1], model\r\n",
        "\r\n"
      ],
      "execution_count": 36,
      "outputs": []
    },
    {
      "cell_type": "code",
      "metadata": {
        "id": "kqDZQtM3kyb_"
      },
      "source": [
        "#, callbacks=[callback]"
      ],
      "execution_count": 33,
      "outputs": []
    },
    {
      "cell_type": "code",
      "metadata": {
        "colab": {
          "base_uri": "https://localhost:8080/"
        },
        "id": "jMgHs5wAfck_",
        "outputId": "5f52bfc6-d776-4292-a068-f6b35ef0de7b"
      },
      "source": [
        "_, _, model = train_mnist_conv()"
      ],
      "execution_count": 37,
      "outputs": [
        {
          "output_type": "stream",
          "text": [
            "Epoch 1/2\n",
            "1875/1875 [==============================] - 36s 19ms/step - loss: 0.2921 - accuracy: 0.9164\n",
            "Epoch 2/2\n",
            "1875/1875 [==============================] - 38s 20ms/step - loss: 0.0506 - accuracy: 0.9847\n"
          ],
          "name": "stdout"
        }
      ]
    },
    {
      "cell_type": "code",
      "metadata": {
        "colab": {
          "base_uri": "https://localhost:8080/"
        },
        "id": "zjwt_HhamIQq",
        "outputId": "6231550d-cf75-407d-a8c5-ba57ba2ea834"
      },
      "source": [
        "model"
      ],
      "execution_count": 38,
      "outputs": [
        {
          "output_type": "execute_result",
          "data": {
            "text/plain": [
              "<tensorflow.python.keras.engine.sequential.Sequential at 0x7fb4c30c2ad0>"
            ]
          },
          "metadata": {
            "tags": []
          },
          "execution_count": 38
        }
      ]
    },
    {
      "cell_type": "code",
      "metadata": {
        "colab": {
          "base_uri": "https://localhost:8080/"
        },
        "id": "grldokHEfch3",
        "outputId": "63d912cf-8390-48b1-ff78-2d72af5513d3"
      },
      "source": [
        "model.save('./model')"
      ],
      "execution_count": 39,
      "outputs": [
        {
          "output_type": "stream",
          "text": [
            "INFO:tensorflow:Assets written to: ./model/assets\n"
          ],
          "name": "stdout"
        }
      ]
    },
    {
      "cell_type": "code",
      "metadata": {
        "id": "wus3E8sdfcfB"
      },
      "source": [
        ""
      ],
      "execution_count": null,
      "outputs": []
    },
    {
      "cell_type": "code",
      "metadata": {
        "id": "0y4Yd5PMfccL"
      },
      "source": [
        "model1 = tf.keras.models.load_model('./model')"
      ],
      "execution_count": 45,
      "outputs": []
    },
    {
      "cell_type": "code",
      "metadata": {
        "colab": {
          "base_uri": "https://localhost:8080/"
        },
        "id": "nKprBJF9fcWv",
        "outputId": "a020ffd8-381a-4477-8e29-3fd64b6b8e2c"
      },
      "source": [
        "model1"
      ],
      "execution_count": 47,
      "outputs": [
        {
          "output_type": "execute_result",
          "data": {
            "text/plain": [
              "<tensorflow.python.keras.engine.sequential.Sequential at 0x7fb4c03ca990>"
            ]
          },
          "metadata": {
            "tags": []
          },
          "execution_count": 47
        }
      ]
    },
    {
      "cell_type": "code",
      "metadata": {
        "id": "3CD8jcrWfcTi"
      },
      "source": [
        ""
      ],
      "execution_count": null,
      "outputs": []
    }
  ]
}